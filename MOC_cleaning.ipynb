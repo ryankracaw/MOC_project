{
 "cells": [
  {
   "cell_type": "code",
   "execution_count": 1,
   "metadata": {},
   "outputs": [],
   "source": [
    "import pandas as pd\n",
    "from datetime import date, timedelta, datetime\n",
    "import numpy as np"
   ]
  },
  {
   "cell_type": "code",
   "execution_count": 9,
   "metadata": {},
   "outputs": [],
   "source": [
    "# Read in the excel sheet\n",
    "file_path = \"Resources\\MOC OCR Submissions Report.xlsx\"\n",
    "sheet_name = 'Appalachia'\n",
    "df = pd.read_excel(file_path, sheet_name)"
   ]
  },
  {
   "cell_type": "code",
   "execution_count": 63,
   "metadata": {},
   "outputs": [
    {
     "data": {
      "text/plain": [
       "[datetime.datetime(2019, 10, 6, 0, 0),\n",
       " datetime.datetime(2019, 10, 13, 0, 0),\n",
       " datetime.datetime(2019, 10, 20, 0, 0),\n",
       " datetime.datetime(2019, 10, 27, 0, 0),\n",
       " datetime.datetime(2019, 11, 3, 0, 0),\n",
       " datetime.datetime(2019, 11, 10, 0, 0),\n",
       " datetime.datetime(2019, 11, 17, 0, 0),\n",
       " datetime.datetime(2019, 11, 24, 0, 0),\n",
       " datetime.datetime(2019, 12, 1, 0, 0),\n",
       " datetime.datetime(2019, 12, 8, 0, 0),\n",
       " datetime.datetime(2019, 12, 15, 0, 0),\n",
       " datetime.datetime(2019, 12, 22, 0, 0),\n",
       " datetime.datetime(2019, 12, 29, 0, 0),\n",
       " datetime.datetime(2020, 1, 5, 0, 0),\n",
       " datetime.datetime(2020, 1, 12, 0, 0),\n",
       " datetime.datetime(2020, 1, 19, 0, 0),\n",
       " datetime.datetime(2020, 1, 26, 0, 0),\n",
       " datetime.datetime(2020, 2, 2, 0, 0),\n",
       " datetime.datetime(2020, 2, 9, 0, 0),\n",
       " datetime.datetime(2020, 2, 16, 0, 0),\n",
       " datetime.datetime(2020, 2, 23, 0, 0),\n",
       " datetime.datetime(2020, 3, 1, 0, 0),\n",
       " datetime.datetime(2020, 3, 8, 0, 0),\n",
       " datetime.datetime(2020, 3, 15, 0, 0),\n",
       " datetime.datetime(2020, 3, 22, 0, 0),\n",
       " datetime.datetime(2020, 3, 29, 0, 0),\n",
       " datetime.datetime(2020, 4, 5, 0, 0),\n",
       " datetime.datetime(2020, 4, 12, 0, 0),\n",
       " datetime.datetime(2020, 4, 19, 0, 0),\n",
       " datetime.datetime(2020, 4, 26, 0, 0),\n",
       " datetime.datetime(2020, 5, 3, 0, 0),\n",
       " datetime.datetime(2020, 5, 10, 0, 0),\n",
       " datetime.datetime(2020, 5, 17, 0, 0),\n",
       " datetime.datetime(2020, 5, 24, 0, 0),\n",
       " datetime.datetime(2020, 5, 31, 0, 0),\n",
       " datetime.datetime(2020, 6, 7, 0, 0),\n",
       " datetime.datetime(2020, 6, 14, 0, 0),\n",
       " datetime.datetime(2020, 6, 21, 0, 0),\n",
       " datetime.datetime(2020, 6, 28, 0, 0),\n",
       " datetime.datetime(2020, 7, 5, 0, 0),\n",
       " datetime.datetime(2020, 7, 12, 0, 0),\n",
       " datetime.datetime(2020, 7, 19, 0, 0),\n",
       " datetime.datetime(2020, 7, 26, 0, 0),\n",
       " datetime.datetime(2020, 8, 2, 0, 0),\n",
       " datetime.datetime(2020, 8, 9, 0, 0),\n",
       " datetime.datetime(2020, 8, 16, 0, 0),\n",
       " datetime.datetime(2020, 8, 23, 0, 0),\n",
       " datetime.datetime(2020, 8, 30, 0, 0),\n",
       " datetime.datetime(2020, 9, 6, 0, 0),\n",
       " datetime.datetime(2020, 9, 13, 0, 0),\n",
       " datetime.datetime(2020, 9, 20, 0, 0),\n",
       " datetime.datetime(2020, 9, 27, 0, 0),\n",
       " datetime.datetime(2020, 10, 4, 0, 0),\n",
       " datetime.datetime(2020, 10, 11, 0, 0),\n",
       " datetime.datetime(2020, 10, 18, 0, 0),\n",
       " datetime.datetime(2020, 10, 25, 0, 0),\n",
       " datetime.datetime(2020, 11, 1, 0, 0),\n",
       " datetime.datetime(2020, 11, 8, 0, 0),\n",
       " datetime.datetime(2020, 11, 15, 0, 0),\n",
       " datetime.datetime(2020, 11, 22, 0, 0),\n",
       " datetime.datetime(2020, 11, 29, 0, 0),\n",
       " datetime.datetime(2020, 12, 6, 0, 0),\n",
       " datetime.datetime(2020, 12, 13, 0, 0),\n",
       " datetime.datetime(2020, 12, 20, 0, 0),\n",
       " datetime.datetime(2020, 12, 27, 0, 0),\n",
       " datetime.datetime(2021, 1, 3, 0, 0),\n",
       " datetime.datetime(2021, 1, 10, 0, 0),\n",
       " datetime.datetime(2021, 1, 17, 0, 0),\n",
       " datetime.datetime(2021, 1, 24, 0, 0),\n",
       " datetime.datetime(2021, 1, 31, 0, 0),\n",
       " datetime.datetime(2021, 2, 7, 0, 0),\n",
       " datetime.datetime(2021, 2, 14, 0, 0),\n",
       " datetime.datetime(2021, 2, 21, 0, 0),\n",
       " datetime.datetime(2021, 2, 28, 0, 0),\n",
       " datetime.datetime(2021, 3, 7, 0, 0),\n",
       " datetime.datetime(2021, 3, 14, 0, 0),\n",
       " datetime.datetime(2021, 3, 21, 0, 0),\n",
       " datetime.datetime(2021, 3, 28, 0, 0),\n",
       " datetime.datetime(2021, 4, 4, 0, 0),\n",
       " datetime.datetime(2021, 4, 11, 0, 0),\n",
       " datetime.datetime(2021, 4, 18, 0, 0),\n",
       " datetime.datetime(2021, 4, 25, 0, 0),\n",
       " datetime.datetime(2021, 5, 2, 0, 0),\n",
       " datetime.datetime(2021, 5, 9, 0, 0),\n",
       " datetime.datetime(2021, 5, 16, 0, 0),\n",
       " datetime.datetime(2021, 5, 23, 0, 0),\n",
       " datetime.datetime(2021, 5, 30, 0, 0),\n",
       " datetime.datetime(2021, 6, 6, 0, 0),\n",
       " datetime.datetime(2021, 6, 13, 0, 0),\n",
       " datetime.datetime(2021, 6, 20, 0, 0),\n",
       " datetime.datetime(2021, 6, 27, 0, 0),\n",
       " datetime.datetime(2021, 7, 4, 0, 0),\n",
       " datetime.datetime(2021, 7, 11, 0, 0),\n",
       " datetime.datetime(2021, 7, 18, 0, 0),\n",
       " datetime.datetime(2021, 7, 25, 0, 0),\n",
       " datetime.datetime(2021, 8, 1, 0, 0),\n",
       " datetime.datetime(2021, 8, 8, 0, 0),\n",
       " datetime.datetime(2021, 8, 15, 0, 0),\n",
       " datetime.datetime(2021, 8, 22, 0, 0),\n",
       " datetime.datetime(2021, 8, 29, 0, 0),\n",
       " datetime.datetime(2021, 9, 5, 0, 0),\n",
       " datetime.datetime(2021, 9, 12, 0, 0),\n",
       " datetime.datetime(2021, 9, 19, 0, 0),\n",
       " datetime.datetime(2021, 9, 26, 0, 0),\n",
       " datetime.datetime(2021, 10, 3, 0, 0),\n",
       " datetime.datetime(2021, 10, 10, 0, 0),\n",
       " datetime.datetime(2021, 10, 17, 0, 0),\n",
       " datetime.datetime(2021, 10, 24, 0, 0),\n",
       " datetime.datetime(2021, 10, 31, 0, 0),\n",
       " datetime.datetime(2021, 11, 7, 0, 0),\n",
       " datetime.datetime(2021, 11, 14, 0, 0),\n",
       " datetime.datetime(2021, 11, 21, 0, 0),\n",
       " datetime.datetime(2021, 11, 28, 0, 0),\n",
       " datetime.datetime(2021, 12, 5, 0, 0),\n",
       " datetime.datetime(2021, 12, 12, 0, 0),\n",
       " datetime.datetime(2021, 12, 19, 0, 0),\n",
       " datetime.datetime(2021, 12, 26, 0, 0),\n",
       " datetime.datetime(2022, 1, 2, 0, 0),\n",
       " datetime.datetime(2022, 1, 9, 0, 0),\n",
       " datetime.datetime(2022, 1, 16, 0, 0),\n",
       " datetime.datetime(2022, 1, 23, 0, 0),\n",
       " datetime.datetime(2022, 1, 30, 0, 0),\n",
       " datetime.datetime(2022, 2, 6, 0, 0),\n",
       " datetime.datetime(2022, 2, 13, 0, 0),\n",
       " datetime.datetime(2022, 2, 20, 0, 0),\n",
       " datetime.datetime(2022, 2, 27, 0, 0),\n",
       " datetime.datetime(2022, 3, 8, 0, 0),\n",
       " datetime.datetime(2022, 3, 15, 0, 0),\n",
       " datetime.datetime(2022, 3, 22, 0, 0),\n",
       " datetime.datetime(2022, 3, 29, 0, 0),\n",
       " datetime.datetime(2022, 4, 5, 0, 0),\n",
       " datetime.datetime(2022, 4, 12, 0, 0),\n",
       " datetime.datetime(2022, 4, 19, 0, 0),\n",
       " datetime.datetime(2022, 4, 26, 0, 0),\n",
       " datetime.datetime(2022, 5, 3, 0, 0),\n",
       " datetime.datetime(2022, 5, 10, 0, 0),\n",
       " datetime.datetime(2022, 5, 17, 0, 0),\n",
       " datetime.datetime(2022, 5, 24, 0, 0),\n",
       " datetime.datetime(2022, 5, 31, 0, 0),\n",
       " datetime.datetime(2022, 6, 7, 0, 0),\n",
       " datetime.datetime(2022, 6, 14, 0, 0),\n",
       " datetime.datetime(2022, 6, 21, 0, 0),\n",
       " datetime.datetime(2022, 6, 28, 0, 0),\n",
       " datetime.datetime(2022, 7, 5, 0, 0),\n",
       " datetime.datetime(2022, 7, 12, 0, 0),\n",
       " datetime.datetime(2022, 7, 19, 0, 0),\n",
       " datetime.datetime(2022, 7, 26, 0, 0),\n",
       " datetime.datetime(2022, 8, 2, 0, 0),\n",
       " datetime.datetime(2022, 8, 9, 0, 0),\n",
       " datetime.datetime(2022, 8, 16, 0, 0),\n",
       " datetime.datetime(2022, 8, 23, 0, 0),\n",
       " datetime.datetime(2022, 8, 30, 0, 0),\n",
       " datetime.datetime(2022, 9, 6, 0, 0),\n",
       " datetime.datetime(2022, 9, 13, 0, 0),\n",
       " datetime.datetime(2022, 9, 20, 0, 0),\n",
       " datetime.datetime(2022, 9, 27, 0, 0),\n",
       " datetime.datetime(2022, 10, 4, 0, 0),\n",
       " datetime.datetime(2022, 10, 11, 0, 0),\n",
       " datetime.datetime(2022, 10, 18, 0, 0),\n",
       " datetime.datetime(2022, 10, 25, 0, 0),\n",
       " datetime.datetime(2022, 11, 1, 0, 0),\n",
       " datetime.datetime(2022, 11, 8, 0, 0),\n",
       " datetime.datetime(2022, 11, 15, 0, 0),\n",
       " datetime.datetime(2022, 11, 22, 0, 0),\n",
       " datetime.datetime(2022, 11, 29, 0, 0),\n",
       " datetime.datetime(2022, 12, 6, 0, 0),\n",
       " datetime.datetime(2022, 12, 13, 0, 0),\n",
       " datetime.datetime(2022, 12, 20, 0, 0),\n",
       " datetime.datetime(2022, 12, 27, 0, 0),\n",
       " datetime.datetime(2023, 1, 3, 0, 0),\n",
       " datetime.datetime(2023, 1, 10, 0, 0),\n",
       " datetime.datetime(2023, 1, 17, 0, 0),\n",
       " datetime.datetime(2023, 1, 24, 0, 0),\n",
       " datetime.datetime(2023, 1, 31, 0, 0),\n",
       " datetime.datetime(2023, 2, 7, 0, 0),\n",
       " datetime.datetime(2023, 2, 14, 0, 0),\n",
       " datetime.datetime(2023, 2, 21, 0, 0),\n",
       " datetime.datetime(2023, 2, 28, 0, 0),\n",
       " datetime.datetime(2023, 3, 7, 0, 0),\n",
       " datetime.datetime(2023, 3, 14, 0, 0),\n",
       " datetime.datetime(2023, 3, 21, 0, 0),\n",
       " datetime.datetime(2023, 3, 28, 0, 0),\n",
       " datetime.datetime(2023, 4, 4, 0, 0),\n",
       " datetime.datetime(2023, 4, 11, 0, 0),\n",
       " datetime.datetime(2023, 4, 18, 0, 0),\n",
       " datetime.datetime(2023, 4, 25, 0, 0),\n",
       " datetime.datetime(2023, 5, 2, 0, 0),\n",
       " datetime.datetime(2023, 5, 9, 0, 0),\n",
       " datetime.datetime(2023, 5, 16, 0, 0),\n",
       " datetime.datetime(2023, 5, 23, 0, 0),\n",
       " datetime.datetime(2023, 5, 30, 0, 0),\n",
       " datetime.datetime(2023, 6, 6, 0, 0),\n",
       " datetime.datetime(2023, 6, 13, 0, 0),\n",
       " datetime.datetime(2023, 6, 20, 0, 0),\n",
       " datetime.datetime(2023, 6, 27, 0, 0),\n",
       " datetime.datetime(2023, 7, 4, 0, 0),\n",
       " datetime.datetime(2023, 7, 11, 0, 0),\n",
       " datetime.datetime(2023, 7, 18, 0, 0),\n",
       " datetime.datetime(2023, 7, 25, 0, 0),\n",
       " datetime.datetime(2023, 8, 1, 0, 0),\n",
       " datetime.datetime(2023, 8, 8, 0, 0),\n",
       " datetime.datetime(2023, 8, 15, 0, 0),\n",
       " datetime.datetime(2023, 8, 22, 0, 0),\n",
       " datetime.datetime(2023, 8, 29, 0, 0),\n",
       " datetime.datetime(2023, 9, 5, 0, 0),\n",
       " datetime.datetime(2023, 9, 12, 0, 0),\n",
       " datetime.datetime(2023, 9, 19, 0, 0),\n",
       " datetime.datetime(2023, 9, 26, 0, 0),\n",
       " datetime.datetime(2023, 10, 3, 0, 0),\n",
       " datetime.datetime(2023, 10, 10, 0, 0),\n",
       " datetime.datetime(2023, 10, 17, 0, 0),\n",
       " datetime.datetime(2023, 10, 24, 0, 0),\n",
       " 'Totals']"
      ]
     },
     "execution_count": 63,
     "metadata": {},
     "output_type": "execute_result"
    }
   ],
   "source": [
    "# Colloect dates and clean them\n",
    "dts = df.iloc[0].dropna()\n",
    "dts = dts.tolist()\n",
    "#del dts[0]\n",
    "dts"
   ]
  },
  {
   "cell_type": "code",
   "execution_count": 65,
   "metadata": {},
   "outputs": [],
   "source": [
    "# Clean dates and format them into a list\n",
    "clean_dates = []\n",
    "for i in dts[:-1]:\n",
    "    time_data = i\n",
    "    format_data = \"%m-%d-%Y\"\n",
    "    date = datetime.strftime(time_data, format_data)\n",
    "    clean_dates.append(date)"
   ]
  },
  {
   "cell_type": "code",
   "execution_count": 295,
   "metadata": {},
   "outputs": [
    {
     "data": {
      "text/html": [
       "<div>\n",
       "<style scoped>\n",
       "    .dataframe tbody tr th:only-of-type {\n",
       "        vertical-align: middle;\n",
       "    }\n",
       "\n",
       "    .dataframe tbody tr th {\n",
       "        vertical-align: top;\n",
       "    }\n",
       "\n",
       "    .dataframe thead th {\n",
       "        text-align: right;\n",
       "    }\n",
       "</style>\n",
       "<table border=\"1\" class=\"dataframe\">\n",
       "  <thead>\n",
       "    <tr style=\"text-align: right;\">\n",
       "      <th></th>\n",
       "      <th>Unnamed: 0</th>\n",
       "      <th>Unnamed: 1</th>\n",
       "      <th>Unnamed: 2</th>\n",
       "      <th>Unnamed: 3</th>\n",
       "      <th>Unnamed: 4</th>\n",
       "      <th>Unnamed: 5</th>\n",
       "      <th>Unnamed: 6</th>\n",
       "      <th>Unnamed: 7</th>\n",
       "      <th>Unnamed: 8</th>\n",
       "      <th>Unnamed: 9</th>\n",
       "      <th>...</th>\n",
       "      <th>Unnamed: 628</th>\n",
       "      <th>Unnamed: 629</th>\n",
       "      <th>Unnamed: 630</th>\n",
       "      <th>Unnamed: 631</th>\n",
       "      <th>Unnamed: 632</th>\n",
       "      <th>Unnamed: 633</th>\n",
       "      <th>Unnamed: 634</th>\n",
       "      <th>Unnamed: 635</th>\n",
       "      <th>Unnamed: 636</th>\n",
       "      <th>Unnamed: 637</th>\n",
       "    </tr>\n",
       "  </thead>\n",
       "  <tbody>\n",
       "    <tr>\n",
       "      <th>2</th>\n",
       "      <td>222</td>\n",
       "      <td>0</td>\n",
       "      <td>0</td>\n",
       "      <td>0</td>\n",
       "      <td>0</td>\n",
       "      <td>0</td>\n",
       "      <td>0</td>\n",
       "      <td>0</td>\n",
       "      <td>0</td>\n",
       "      <td>0</td>\n",
       "      <td>...</td>\n",
       "      <td>0</td>\n",
       "      <td>0</td>\n",
       "      <td>0</td>\n",
       "      <td>0</td>\n",
       "      <td>0</td>\n",
       "      <td>0</td>\n",
       "      <td>0</td>\n",
       "      <td>0</td>\n",
       "      <td>0</td>\n",
       "      <td>21</td>\n",
       "    </tr>\n",
       "    <tr>\n",
       "      <th>3</th>\n",
       "      <td>223</td>\n",
       "      <td>1</td>\n",
       "      <td>0</td>\n",
       "      <td>0</td>\n",
       "      <td>0</td>\n",
       "      <td>0</td>\n",
       "      <td>0</td>\n",
       "      <td>0</td>\n",
       "      <td>0</td>\n",
       "      <td>0</td>\n",
       "      <td>...</td>\n",
       "      <td>0</td>\n",
       "      <td>0</td>\n",
       "      <td>0</td>\n",
       "      <td>0</td>\n",
       "      <td>0</td>\n",
       "      <td>0</td>\n",
       "      <td>0</td>\n",
       "      <td>0</td>\n",
       "      <td>0</td>\n",
       "      <td>4</td>\n",
       "    </tr>\n",
       "    <tr>\n",
       "      <th>4</th>\n",
       "      <td>229</td>\n",
       "      <td>0</td>\n",
       "      <td>0</td>\n",
       "      <td>0</td>\n",
       "      <td>0</td>\n",
       "      <td>0</td>\n",
       "      <td>0</td>\n",
       "      <td>0</td>\n",
       "      <td>0</td>\n",
       "      <td>0</td>\n",
       "      <td>...</td>\n",
       "      <td>0</td>\n",
       "      <td>0</td>\n",
       "      <td>0</td>\n",
       "      <td>0</td>\n",
       "      <td>0</td>\n",
       "      <td>0</td>\n",
       "      <td>0</td>\n",
       "      <td>0</td>\n",
       "      <td>0</td>\n",
       "      <td>4</td>\n",
       "    </tr>\n",
       "    <tr>\n",
       "      <th>5</th>\n",
       "      <td>233</td>\n",
       "      <td>0</td>\n",
       "      <td>0</td>\n",
       "      <td>0</td>\n",
       "      <td>0</td>\n",
       "      <td>0</td>\n",
       "      <td>0</td>\n",
       "      <td>0</td>\n",
       "      <td>0</td>\n",
       "      <td>0</td>\n",
       "      <td>...</td>\n",
       "      <td>0</td>\n",
       "      <td>0</td>\n",
       "      <td>0</td>\n",
       "      <td>0</td>\n",
       "      <td>0</td>\n",
       "      <td>0</td>\n",
       "      <td>0</td>\n",
       "      <td>0</td>\n",
       "      <td>0</td>\n",
       "      <td>88</td>\n",
       "    </tr>\n",
       "    <tr>\n",
       "      <th>6</th>\n",
       "      <td>240</td>\n",
       "      <td>0</td>\n",
       "      <td>0</td>\n",
       "      <td>0</td>\n",
       "      <td>0</td>\n",
       "      <td>0</td>\n",
       "      <td>0</td>\n",
       "      <td>0</td>\n",
       "      <td>0</td>\n",
       "      <td>0</td>\n",
       "      <td>...</td>\n",
       "      <td>0</td>\n",
       "      <td>0</td>\n",
       "      <td>0</td>\n",
       "      <td>0</td>\n",
       "      <td>0</td>\n",
       "      <td>0</td>\n",
       "      <td>0</td>\n",
       "      <td>0</td>\n",
       "      <td>0</td>\n",
       "      <td>9</td>\n",
       "    </tr>\n",
       "    <tr>\n",
       "      <th>7</th>\n",
       "      <td>246</td>\n",
       "      <td>0</td>\n",
       "      <td>0</td>\n",
       "      <td>0</td>\n",
       "      <td>0</td>\n",
       "      <td>0</td>\n",
       "      <td>0</td>\n",
       "      <td>0</td>\n",
       "      <td>0</td>\n",
       "      <td>0</td>\n",
       "      <td>...</td>\n",
       "      <td>0</td>\n",
       "      <td>0</td>\n",
       "      <td>0</td>\n",
       "      <td>0</td>\n",
       "      <td>0</td>\n",
       "      <td>0</td>\n",
       "      <td>0</td>\n",
       "      <td>0</td>\n",
       "      <td>0</td>\n",
       "      <td>57</td>\n",
       "    </tr>\n",
       "    <tr>\n",
       "      <th>8</th>\n",
       "      <td>247</td>\n",
       "      <td>0</td>\n",
       "      <td>0</td>\n",
       "      <td>0</td>\n",
       "      <td>0</td>\n",
       "      <td>0</td>\n",
       "      <td>0</td>\n",
       "      <td>0</td>\n",
       "      <td>0</td>\n",
       "      <td>0</td>\n",
       "      <td>...</td>\n",
       "      <td>0</td>\n",
       "      <td>0</td>\n",
       "      <td>0</td>\n",
       "      <td>0</td>\n",
       "      <td>0</td>\n",
       "      <td>0</td>\n",
       "      <td>0</td>\n",
       "      <td>0</td>\n",
       "      <td>0</td>\n",
       "      <td>57</td>\n",
       "    </tr>\n",
       "    <tr>\n",
       "      <th>9</th>\n",
       "      <td>248</td>\n",
       "      <td>0</td>\n",
       "      <td>0</td>\n",
       "      <td>0</td>\n",
       "      <td>0</td>\n",
       "      <td>0</td>\n",
       "      <td>0</td>\n",
       "      <td>0</td>\n",
       "      <td>0</td>\n",
       "      <td>0</td>\n",
       "      <td>...</td>\n",
       "      <td>0</td>\n",
       "      <td>0</td>\n",
       "      <td>0</td>\n",
       "      <td>0</td>\n",
       "      <td>0</td>\n",
       "      <td>0</td>\n",
       "      <td>0</td>\n",
       "      <td>0</td>\n",
       "      <td>0</td>\n",
       "      <td>287</td>\n",
       "    </tr>\n",
       "    <tr>\n",
       "      <th>10</th>\n",
       "      <td>266</td>\n",
       "      <td>0</td>\n",
       "      <td>0</td>\n",
       "      <td>0</td>\n",
       "      <td>0</td>\n",
       "      <td>0</td>\n",
       "      <td>0</td>\n",
       "      <td>1</td>\n",
       "      <td>0</td>\n",
       "      <td>0</td>\n",
       "      <td>...</td>\n",
       "      <td>0</td>\n",
       "      <td>0</td>\n",
       "      <td>0</td>\n",
       "      <td>0</td>\n",
       "      <td>0</td>\n",
       "      <td>0</td>\n",
       "      <td>0</td>\n",
       "      <td>0</td>\n",
       "      <td>0</td>\n",
       "      <td>32</td>\n",
       "    </tr>\n",
       "    <tr>\n",
       "      <th>11</th>\n",
       "      <td>271</td>\n",
       "      <td>0</td>\n",
       "      <td>0</td>\n",
       "      <td>0</td>\n",
       "      <td>0</td>\n",
       "      <td>0</td>\n",
       "      <td>0</td>\n",
       "      <td>0</td>\n",
       "      <td>0</td>\n",
       "      <td>0</td>\n",
       "      <td>...</td>\n",
       "      <td>0</td>\n",
       "      <td>0</td>\n",
       "      <td>0</td>\n",
       "      <td>0</td>\n",
       "      <td>0</td>\n",
       "      <td>0</td>\n",
       "      <td>0</td>\n",
       "      <td>0</td>\n",
       "      <td>0</td>\n",
       "      <td>8</td>\n",
       "    </tr>\n",
       "    <tr>\n",
       "      <th>12</th>\n",
       "      <td>273</td>\n",
       "      <td>0</td>\n",
       "      <td>0</td>\n",
       "      <td>0</td>\n",
       "      <td>0</td>\n",
       "      <td>0</td>\n",
       "      <td>0</td>\n",
       "      <td>0</td>\n",
       "      <td>0</td>\n",
       "      <td>0</td>\n",
       "      <td>...</td>\n",
       "      <td>0</td>\n",
       "      <td>0</td>\n",
       "      <td>0</td>\n",
       "      <td>0</td>\n",
       "      <td>0</td>\n",
       "      <td>0</td>\n",
       "      <td>0</td>\n",
       "      <td>0</td>\n",
       "      <td>0</td>\n",
       "      <td>27</td>\n",
       "    </tr>\n",
       "    <tr>\n",
       "      <th>13</th>\n",
       "      <td>285</td>\n",
       "      <td>0</td>\n",
       "      <td>0</td>\n",
       "      <td>0</td>\n",
       "      <td>0</td>\n",
       "      <td>0</td>\n",
       "      <td>0</td>\n",
       "      <td>0</td>\n",
       "      <td>0</td>\n",
       "      <td>0</td>\n",
       "      <td>...</td>\n",
       "      <td>0</td>\n",
       "      <td>0</td>\n",
       "      <td>0</td>\n",
       "      <td>0</td>\n",
       "      <td>0</td>\n",
       "      <td>0</td>\n",
       "      <td>0</td>\n",
       "      <td>0</td>\n",
       "      <td>0</td>\n",
       "      <td>147</td>\n",
       "    </tr>\n",
       "    <tr>\n",
       "      <th>14</th>\n",
       "      <td>299</td>\n",
       "      <td>0</td>\n",
       "      <td>0</td>\n",
       "      <td>0</td>\n",
       "      <td>0</td>\n",
       "      <td>0</td>\n",
       "      <td>0</td>\n",
       "      <td>0</td>\n",
       "      <td>0</td>\n",
       "      <td>0</td>\n",
       "      <td>...</td>\n",
       "      <td>0</td>\n",
       "      <td>0</td>\n",
       "      <td>0</td>\n",
       "      <td>0</td>\n",
       "      <td>0</td>\n",
       "      <td>0</td>\n",
       "      <td>0</td>\n",
       "      <td>0</td>\n",
       "      <td>0</td>\n",
       "      <td>18</td>\n",
       "    </tr>\n",
       "    <tr>\n",
       "      <th>15</th>\n",
       "      <td>333</td>\n",
       "      <td>0</td>\n",
       "      <td>0</td>\n",
       "      <td>0</td>\n",
       "      <td>0</td>\n",
       "      <td>0</td>\n",
       "      <td>0</td>\n",
       "      <td>0</td>\n",
       "      <td>0</td>\n",
       "      <td>0</td>\n",
       "      <td>...</td>\n",
       "      <td>0</td>\n",
       "      <td>0</td>\n",
       "      <td>0</td>\n",
       "      <td>0</td>\n",
       "      <td>0</td>\n",
       "      <td>0</td>\n",
       "      <td>0</td>\n",
       "      <td>0</td>\n",
       "      <td>0</td>\n",
       "      <td>5</td>\n",
       "    </tr>\n",
       "    <tr>\n",
       "      <th>16</th>\n",
       "      <td>558</td>\n",
       "      <td>0</td>\n",
       "      <td>0</td>\n",
       "      <td>0</td>\n",
       "      <td>0</td>\n",
       "      <td>0</td>\n",
       "      <td>0</td>\n",
       "      <td>0</td>\n",
       "      <td>0</td>\n",
       "      <td>0</td>\n",
       "      <td>...</td>\n",
       "      <td>0</td>\n",
       "      <td>0</td>\n",
       "      <td>0</td>\n",
       "      <td>0</td>\n",
       "      <td>0</td>\n",
       "      <td>0</td>\n",
       "      <td>0</td>\n",
       "      <td>0</td>\n",
       "      <td>0</td>\n",
       "      <td>10</td>\n",
       "    </tr>\n",
       "    <tr>\n",
       "      <th>17</th>\n",
       "      <td>561</td>\n",
       "      <td>0</td>\n",
       "      <td>0</td>\n",
       "      <td>0</td>\n",
       "      <td>0</td>\n",
       "      <td>0</td>\n",
       "      <td>0</td>\n",
       "      <td>0</td>\n",
       "      <td>0</td>\n",
       "      <td>0</td>\n",
       "      <td>...</td>\n",
       "      <td>0</td>\n",
       "      <td>0</td>\n",
       "      <td>0</td>\n",
       "      <td>0</td>\n",
       "      <td>0</td>\n",
       "      <td>0</td>\n",
       "      <td>0</td>\n",
       "      <td>0</td>\n",
       "      <td>0</td>\n",
       "      <td>61</td>\n",
       "    </tr>\n",
       "    <tr>\n",
       "      <th>18</th>\n",
       "      <td>585</td>\n",
       "      <td>0</td>\n",
       "      <td>0</td>\n",
       "      <td>0</td>\n",
       "      <td>1</td>\n",
       "      <td>0</td>\n",
       "      <td>0</td>\n",
       "      <td>0</td>\n",
       "      <td>0</td>\n",
       "      <td>0</td>\n",
       "      <td>...</td>\n",
       "      <td>0</td>\n",
       "      <td>0</td>\n",
       "      <td>0</td>\n",
       "      <td>0</td>\n",
       "      <td>0</td>\n",
       "      <td>0</td>\n",
       "      <td>0</td>\n",
       "      <td>0</td>\n",
       "      <td>0</td>\n",
       "      <td>10</td>\n",
       "    </tr>\n",
       "    <tr>\n",
       "      <th>19</th>\n",
       "      <td>596</td>\n",
       "      <td>0</td>\n",
       "      <td>0</td>\n",
       "      <td>0</td>\n",
       "      <td>0</td>\n",
       "      <td>0</td>\n",
       "      <td>0</td>\n",
       "      <td>1</td>\n",
       "      <td>0</td>\n",
       "      <td>0</td>\n",
       "      <td>...</td>\n",
       "      <td>0</td>\n",
       "      <td>0</td>\n",
       "      <td>0</td>\n",
       "      <td>0</td>\n",
       "      <td>0</td>\n",
       "      <td>0</td>\n",
       "      <td>0</td>\n",
       "      <td>0</td>\n",
       "      <td>0</td>\n",
       "      <td>11</td>\n",
       "    </tr>\n",
       "    <tr>\n",
       "      <th>20</th>\n",
       "      <td>Yard</td>\n",
       "      <td>0</td>\n",
       "      <td>0</td>\n",
       "      <td>0</td>\n",
       "      <td>0</td>\n",
       "      <td>0</td>\n",
       "      <td>0</td>\n",
       "      <td>1</td>\n",
       "      <td>0</td>\n",
       "      <td>0</td>\n",
       "      <td>...</td>\n",
       "      <td>0</td>\n",
       "      <td>0</td>\n",
       "      <td>0</td>\n",
       "      <td>0</td>\n",
       "      <td>0</td>\n",
       "      <td>0</td>\n",
       "      <td>0</td>\n",
       "      <td>0</td>\n",
       "      <td>0</td>\n",
       "      <td>2</td>\n",
       "    </tr>\n",
       "  </tbody>\n",
       "</table>\n",
       "<p>19 rows × 638 columns</p>\n",
       "</div>"
      ],
      "text/plain": [
       "   Unnamed: 0  Unnamed: 1  Unnamed: 2  Unnamed: 3  Unnamed: 4  Unnamed: 5  \\\n",
       "2         222           0           0           0           0           0   \n",
       "3         223           1           0           0           0           0   \n",
       "4         229           0           0           0           0           0   \n",
       "5         233           0           0           0           0           0   \n",
       "6         240           0           0           0           0           0   \n",
       "7         246           0           0           0           0           0   \n",
       "8         247           0           0           0           0           0   \n",
       "9         248           0           0           0           0           0   \n",
       "10        266           0           0           0           0           0   \n",
       "11        271           0           0           0           0           0   \n",
       "12        273           0           0           0           0           0   \n",
       "13        285           0           0           0           0           0   \n",
       "14        299           0           0           0           0           0   \n",
       "15        333           0           0           0           0           0   \n",
       "16        558           0           0           0           0           0   \n",
       "17        561           0           0           0           0           0   \n",
       "18        585           0           0           0           1           0   \n",
       "19        596           0           0           0           0           0   \n",
       "20       Yard           0           0           0           0           0   \n",
       "\n",
       "    Unnamed: 6  Unnamed: 7  Unnamed: 8  Unnamed: 9  ...  Unnamed: 628  \\\n",
       "2            0           0           0           0  ...             0   \n",
       "3            0           0           0           0  ...             0   \n",
       "4            0           0           0           0  ...             0   \n",
       "5            0           0           0           0  ...             0   \n",
       "6            0           0           0           0  ...             0   \n",
       "7            0           0           0           0  ...             0   \n",
       "8            0           0           0           0  ...             0   \n",
       "9            0           0           0           0  ...             0   \n",
       "10           0           1           0           0  ...             0   \n",
       "11           0           0           0           0  ...             0   \n",
       "12           0           0           0           0  ...             0   \n",
       "13           0           0           0           0  ...             0   \n",
       "14           0           0           0           0  ...             0   \n",
       "15           0           0           0           0  ...             0   \n",
       "16           0           0           0           0  ...             0   \n",
       "17           0           0           0           0  ...             0   \n",
       "18           0           0           0           0  ...             0   \n",
       "19           0           1           0           0  ...             0   \n",
       "20           0           1           0           0  ...             0   \n",
       "\n",
       "    Unnamed: 629  Unnamed: 630  Unnamed: 631  Unnamed: 632  Unnamed: 633  \\\n",
       "2              0             0             0             0             0   \n",
       "3              0             0             0             0             0   \n",
       "4              0             0             0             0             0   \n",
       "5              0             0             0             0             0   \n",
       "6              0             0             0             0             0   \n",
       "7              0             0             0             0             0   \n",
       "8              0             0             0             0             0   \n",
       "9              0             0             0             0             0   \n",
       "10             0             0             0             0             0   \n",
       "11             0             0             0             0             0   \n",
       "12             0             0             0             0             0   \n",
       "13             0             0             0             0             0   \n",
       "14             0             0             0             0             0   \n",
       "15             0             0             0             0             0   \n",
       "16             0             0             0             0             0   \n",
       "17             0             0             0             0             0   \n",
       "18             0             0             0             0             0   \n",
       "19             0             0             0             0             0   \n",
       "20             0             0             0             0             0   \n",
       "\n",
       "    Unnamed: 634  Unnamed: 635  Unnamed: 636  Unnamed: 637  \n",
       "2              0             0             0            21  \n",
       "3              0             0             0             4  \n",
       "4              0             0             0             4  \n",
       "5              0             0             0            88  \n",
       "6              0             0             0             9  \n",
       "7              0             0             0            57  \n",
       "8              0             0             0            57  \n",
       "9              0             0             0           287  \n",
       "10             0             0             0            32  \n",
       "11             0             0             0             8  \n",
       "12             0             0             0            27  \n",
       "13             0             0             0           147  \n",
       "14             0             0             0            18  \n",
       "15             0             0             0             5  \n",
       "16             0             0             0            10  \n",
       "17             0             0             0            61  \n",
       "18             0             0             0            10  \n",
       "19             0             0             0            11  \n",
       "20             0             0             0             2  \n",
       "\n",
       "[19 rows x 638 columns]"
      ]
     },
     "execution_count": 295,
     "metadata": {},
     "output_type": "execute_result"
    }
   ],
   "source": [
    "# Clean Dataframe so that just the colors are used\n",
    "df_color_data = df.iloc[2:21, :]\n",
    "df_color_data = df_color_data.fillna(0)\n",
    "df_color_data"
   ]
  },
  {
   "cell_type": "code",
   "execution_count": 296,
   "metadata": {},
   "outputs": [
    {
     "data": {
      "text/html": [
       "<div>\n",
       "<style scoped>\n",
       "    .dataframe tbody tr th:only-of-type {\n",
       "        vertical-align: middle;\n",
       "    }\n",
       "\n",
       "    .dataframe tbody tr th {\n",
       "        vertical-align: top;\n",
       "    }\n",
       "\n",
       "    .dataframe thead th {\n",
       "        text-align: right;\n",
       "    }\n",
       "</style>\n",
       "<table border=\"1\" class=\"dataframe\">\n",
       "  <thead>\n",
       "    <tr style=\"text-align: right;\">\n",
       "      <th></th>\n",
       "      <th>Date</th>\n",
       "      <th>Color</th>\n",
       "      <th>Rig Number</th>\n",
       "      <th>Region</th>\n",
       "    </tr>\n",
       "  </thead>\n",
       "  <tbody>\n",
       "    <tr>\n",
       "      <th>894</th>\n",
       "      <td>09-26-2023</td>\n",
       "      <td>Orange</td>\n",
       "      <td>248</td>\n",
       "      <td>South Texas</td>\n",
       "    </tr>\n",
       "    <tr>\n",
       "      <th>895</th>\n",
       "      <td>09-26-2023</td>\n",
       "      <td>Orange</td>\n",
       "      <td>248</td>\n",
       "      <td>South Texas</td>\n",
       "    </tr>\n",
       "    <tr>\n",
       "      <th>896</th>\n",
       "      <td>09-26-2023</td>\n",
       "      <td>Orange</td>\n",
       "      <td>273</td>\n",
       "      <td>South Texas</td>\n",
       "    </tr>\n",
       "    <tr>\n",
       "      <th>897</th>\n",
       "      <td>09-26-2023</td>\n",
       "      <td>Red</td>\n",
       "      <td>233</td>\n",
       "      <td>South Texas</td>\n",
       "    </tr>\n",
       "    <tr>\n",
       "      <th>898</th>\n",
       "      <td>09-26-2023</td>\n",
       "      <td>Red</td>\n",
       "      <td>273</td>\n",
       "      <td>South Texas</td>\n",
       "    </tr>\n",
       "  </tbody>\n",
       "</table>\n",
       "</div>"
      ],
      "text/plain": [
       "           Date   Color Rig Number       Region\n",
       "894  09-26-2023  Orange        248  South Texas\n",
       "895  09-26-2023  Orange        248  South Texas\n",
       "896  09-26-2023  Orange        273  South Texas\n",
       "897  09-26-2023     Red        233  South Texas\n",
       "898  09-26-2023     Red        273  South Texas"
      ]
     },
     "execution_count": 296,
     "metadata": {},
     "output_type": "execute_result"
    }
   ],
   "source": [
    "# Extract data and covert into a dataframe\n",
    "n=635\n",
    "color_cols = [[ x for x in range(y,y+3)] for y in range(1,n,3)]\n",
    "master_list = []\n",
    "for date, cols in zip(clean_dates, color_cols):\n",
    "    for col in cols:\n",
    "        if col%3 == 1:\n",
    "            color = 'Orange'\n",
    "        elif col%3 == 2:\n",
    "            color = 'Red'\n",
    "        else:\n",
    "            color = 'Other'\n",
    "        for row in range(19):\n",
    "            rig_num = df_color_data.iloc[row, 0]\n",
    "            if isinstance(df_color_data.iloc[row, col], str):\n",
    "                print(f'The error is at date {date} and rig number {rig_num} at color {color}')\n",
    "            if df_color_data.iloc[row, col] == 1:\n",
    "                list = []\n",
    "                list.append(date)\n",
    "                list.append(color)\n",
    "                list.append(rig_num)\n",
    "                list.append('South Texas')\n",
    "                master_list.append(list)\n",
    "            if df_color_data.iloc[row, col] > 1:\n",
    "                amount = int(df_color_data.iloc[row, col])\n",
    "                for i in range(amount):\n",
    "                    list = []\n",
    "                    list.append(date)\n",
    "                    list.append(color)\n",
    "                    list.append(rig_num)\n",
    "                    list.append('South Texas')\n",
    "                    master_list.append(list)\n",
    "\n",
    "new_df = pd.DataFrame(master_list, columns=['Date', 'Color', 'Rig Number', 'Region'])\n",
    "new_df.tail()"
   ]
  },
  {
   "cell_type": "code",
   "execution_count": null,
   "metadata": {},
   "outputs": [
    {
     "data": {
      "text/html": [
       "<div>\n",
       "<style scoped>\n",
       "    .dataframe tbody tr th:only-of-type {\n",
       "        vertical-align: middle;\n",
       "    }\n",
       "\n",
       "    .dataframe tbody tr th {\n",
       "        vertical-align: top;\n",
       "    }\n",
       "\n",
       "    .dataframe thead th {\n",
       "        text-align: right;\n",
       "    }\n",
       "</style>\n",
       "<table border=\"1\" class=\"dataframe\">\n",
       "  <thead>\n",
       "    <tr style=\"text-align: right;\">\n",
       "      <th></th>\n",
       "      <th>Date</th>\n",
       "      <th>Color</th>\n",
       "      <th>Rig Number</th>\n",
       "      <th>Region</th>\n",
       "    </tr>\n",
       "  </thead>\n",
       "  <tbody>\n",
       "    <tr>\n",
       "      <th>0</th>\n",
       "      <td>10-13-2019</td>\n",
       "      <td>Orange</td>\n",
       "      <td>808</td>\n",
       "      <td>North Dakota</td>\n",
       "    </tr>\n",
       "    <tr>\n",
       "      <th>1</th>\n",
       "      <td>10-13-2019</td>\n",
       "      <td>Orange</td>\n",
       "      <td>808</td>\n",
       "      <td>North Dakota</td>\n",
       "    </tr>\n",
       "    <tr>\n",
       "      <th>2</th>\n",
       "      <td>10-13-2019</td>\n",
       "      <td>Red</td>\n",
       "      <td>808</td>\n",
       "      <td>North Dakota</td>\n",
       "    </tr>\n",
       "    <tr>\n",
       "      <th>3</th>\n",
       "      <td>10-13-2019</td>\n",
       "      <td>Other</td>\n",
       "      <td>344</td>\n",
       "      <td>North Dakota</td>\n",
       "    </tr>\n",
       "    <tr>\n",
       "      <th>4</th>\n",
       "      <td>10-20-2019</td>\n",
       "      <td>Orange</td>\n",
       "      <td>286</td>\n",
       "      <td>North Dakota</td>\n",
       "    </tr>\n",
       "  </tbody>\n",
       "</table>\n",
       "</div>"
      ],
      "text/plain": [
       "         Date   Color  Rig Number        Region\n",
       "0  10-13-2019  Orange         808  North Dakota\n",
       "1  10-13-2019  Orange         808  North Dakota\n",
       "2  10-13-2019     Red         808  North Dakota\n",
       "3  10-13-2019   Other         344  North Dakota\n",
       "4  10-20-2019  Orange         286  North Dakota"
      ]
     },
     "execution_count": 196,
     "metadata": {},
     "output_type": "execute_result"
    }
   ],
   "source": [
    "new_df.head()"
   ]
  },
  {
   "cell_type": "code",
   "execution_count": 297,
   "metadata": {},
   "outputs": [],
   "source": [
    "new_df.to_csv('stx.csv', index=False)"
   ]
  },
  {
   "cell_type": "code",
   "execution_count": 305,
   "metadata": {},
   "outputs": [],
   "source": [
    "app_df = pd.read_csv('app.csv')\n",
    "midcon_df = pd.read_csv('midcon.csv')\n",
    "nd_df = pd.read_csv('ND.csv')\n",
    "rockies_df = pd.read_csv('rockies.csv')\n",
    "etx_df = pd.read_csv('etx.csv')\n",
    "wtx_df = pd.read_csv('wtx.csv')\n",
    "stx_df = pd.read_csv('stx.csv')\n",
    "\n",
    "combine_df = pd.concat([app_df,midcon_df,nd_df,rockies_df,etx_df,wtx_df,stx_df])\n",
    "combine_df.to_csv('master_data.csv', index=False)\n"
   ]
  },
  {
   "cell_type": "code",
   "execution_count": 70,
   "metadata": {},
   "outputs": [],
   "source": [
    "rig_info_df = df.iloc[45:50]\n",
    "rig_info_df = rig_info_df.T.reset_index()\n",
    "rig_info_df = rig_info_df.drop(columns=['index', 46])\n",
    "rig_info_df = rig_info_df.rename(columns= {45:'# OCRs', 47:'# Rigs', 48:'Rigs Ratio', 49:'Days Ratio'})\n",
    "rig_info_df = rig_info_df.drop(0)\n",
    "rig_info_df = rig_info_df.dropna().reset_index()\n",
    "rig_info_df = rig_info_df.drop(columns='index')\n",
    "new_clean_dates = clean_dates\n",
    "new_clean_dates = new_clean_dates[:len(new_clean_dates)-4]\n",
    "rig_info_df['Date'] = new_clean_dates"
   ]
  },
  {
   "cell_type": "code",
   "execution_count": 71,
   "metadata": {},
   "outputs": [
    {
     "data": {
      "text/html": [
       "<div>\n",
       "<style scoped>\n",
       "    .dataframe tbody tr th:only-of-type {\n",
       "        vertical-align: middle;\n",
       "    }\n",
       "\n",
       "    .dataframe tbody tr th {\n",
       "        vertical-align: top;\n",
       "    }\n",
       "\n",
       "    .dataframe thead th {\n",
       "        text-align: right;\n",
       "    }\n",
       "</style>\n",
       "<table border=\"1\" class=\"dataframe\">\n",
       "  <thead>\n",
       "    <tr style=\"text-align: right;\">\n",
       "      <th></th>\n",
       "      <th># OCRs</th>\n",
       "      <th># Rigs</th>\n",
       "      <th>Rigs Ratio</th>\n",
       "      <th>Days Ratio</th>\n",
       "      <th>Date</th>\n",
       "    </tr>\n",
       "  </thead>\n",
       "  <tbody>\n",
       "    <tr>\n",
       "      <th>0</th>\n",
       "      <td>3</td>\n",
       "      <td>24</td>\n",
       "      <td>0.125</td>\n",
       "      <td>0.428571</td>\n",
       "      <td>10-06-2019</td>\n",
       "    </tr>\n",
       "    <tr>\n",
       "      <th>1</th>\n",
       "      <td>5</td>\n",
       "      <td>25</td>\n",
       "      <td>0.2</td>\n",
       "      <td>0.714286</td>\n",
       "      <td>10-13-2019</td>\n",
       "    </tr>\n",
       "    <tr>\n",
       "      <th>2</th>\n",
       "      <td>11</td>\n",
       "      <td>23</td>\n",
       "      <td>0.478261</td>\n",
       "      <td>1.571429</td>\n",
       "      <td>10-20-2019</td>\n",
       "    </tr>\n",
       "    <tr>\n",
       "      <th>3</th>\n",
       "      <td>4</td>\n",
       "      <td>22</td>\n",
       "      <td>0.181818</td>\n",
       "      <td>0.571429</td>\n",
       "      <td>10-27-2019</td>\n",
       "    </tr>\n",
       "    <tr>\n",
       "      <th>4</th>\n",
       "      <td>6</td>\n",
       "      <td>22</td>\n",
       "      <td>0.272727</td>\n",
       "      <td>0.857143</td>\n",
       "      <td>11-03-2019</td>\n",
       "    </tr>\n",
       "    <tr>\n",
       "      <th>...</th>\n",
       "      <td>...</td>\n",
       "      <td>...</td>\n",
       "      <td>...</td>\n",
       "      <td>...</td>\n",
       "      <td>...</td>\n",
       "    </tr>\n",
       "    <tr>\n",
       "      <th>203</th>\n",
       "      <td>0</td>\n",
       "      <td>17</td>\n",
       "      <td>0</td>\n",
       "      <td>0</td>\n",
       "      <td>08-29-2023</td>\n",
       "    </tr>\n",
       "    <tr>\n",
       "      <th>204</th>\n",
       "      <td>0</td>\n",
       "      <td>17</td>\n",
       "      <td>0</td>\n",
       "      <td>0</td>\n",
       "      <td>09-05-2023</td>\n",
       "    </tr>\n",
       "    <tr>\n",
       "      <th>205</th>\n",
       "      <td>0</td>\n",
       "      <td>17</td>\n",
       "      <td>0</td>\n",
       "      <td>0</td>\n",
       "      <td>09-12-2023</td>\n",
       "    </tr>\n",
       "    <tr>\n",
       "      <th>206</th>\n",
       "      <td>1</td>\n",
       "      <td>17</td>\n",
       "      <td>0.058824</td>\n",
       "      <td>0.142857</td>\n",
       "      <td>09-19-2023</td>\n",
       "    </tr>\n",
       "    <tr>\n",
       "      <th>207</th>\n",
       "      <td>1</td>\n",
       "      <td>17</td>\n",
       "      <td>0.058824</td>\n",
       "      <td>0.142857</td>\n",
       "      <td>09-26-2023</td>\n",
       "    </tr>\n",
       "  </tbody>\n",
       "</table>\n",
       "<p>208 rows × 5 columns</p>\n",
       "</div>"
      ],
      "text/plain": [
       "    # OCRs # Rigs Rigs Ratio Days Ratio        Date\n",
       "0        3     24      0.125   0.428571  10-06-2019\n",
       "1        5     25        0.2   0.714286  10-13-2019\n",
       "2       11     23   0.478261   1.571429  10-20-2019\n",
       "3        4     22   0.181818   0.571429  10-27-2019\n",
       "4        6     22   0.272727   0.857143  11-03-2019\n",
       "..     ...    ...        ...        ...         ...\n",
       "203      0     17          0          0  08-29-2023\n",
       "204      0     17          0          0  09-05-2023\n",
       "205      0     17          0          0  09-12-2023\n",
       "206      1     17   0.058824   0.142857  09-19-2023\n",
       "207      1     17   0.058824   0.142857  09-26-2023\n",
       "\n",
       "[208 rows x 5 columns]"
      ]
     },
     "execution_count": 71,
     "metadata": {},
     "output_type": "execute_result"
    }
   ],
   "source": [
    "rig_info_df"
   ]
  },
  {
   "cell_type": "code",
   "execution_count": 78,
   "metadata": {},
   "outputs": [
    {
     "data": {
      "application/vnd.plotly.v1+json": {
       "config": {
        "plotlyServerURL": "https://plot.ly"
       },
       "data": [
        {
         "hovertemplate": "Date=%{x}<br># Rigs=%{y}<extra></extra>",
         "legendgroup": "",
         "line": {
          "color": "#636efa",
          "dash": "solid"
         },
         "marker": {
          "symbol": "circle"
         },
         "mode": "lines",
         "name": "",
         "orientation": "v",
         "showlegend": false,
         "type": "scatter",
         "x": [
          "10-06-2019",
          "10-13-2019",
          "10-20-2019",
          "10-27-2019",
          "11-03-2019",
          "11-10-2019",
          "11-17-2019",
          "11-24-2019",
          "12-01-2019",
          "12-08-2019",
          "12-15-2019",
          "12-22-2019",
          "12-29-2019",
          "01-05-2020",
          "01-12-2020",
          "01-19-2020",
          "01-26-2020",
          "02-02-2020",
          "02-09-2020",
          "02-16-2020",
          "02-23-2020",
          "03-01-2020",
          "03-08-2020",
          "03-15-2020",
          "03-22-2020",
          "03-29-2020",
          "04-05-2020",
          "04-12-2020",
          "04-19-2020",
          "04-26-2020",
          "05-03-2020",
          "05-10-2020",
          "05-17-2020",
          "05-24-2020",
          "05-31-2020",
          "06-07-2020",
          "06-14-2020",
          "06-21-2020",
          "06-28-2020",
          "07-05-2020",
          "07-12-2020",
          "07-19-2020",
          "07-26-2020",
          "08-02-2020",
          "08-09-2020",
          "08-16-2020",
          "08-23-2020",
          "08-30-2020",
          "09-06-2020",
          "09-13-2020",
          "09-20-2020",
          "09-27-2020",
          "10-04-2020",
          "10-11-2020",
          "10-18-2020",
          "10-25-2020",
          "11-01-2020",
          "11-08-2020",
          "11-15-2020",
          "11-22-2020",
          "11-29-2020",
          "12-06-2020",
          "12-13-2020",
          "12-20-2020",
          "12-27-2020",
          "01-03-2021",
          "01-10-2021",
          "01-17-2021",
          "01-24-2021",
          "01-31-2021",
          "02-07-2021",
          "02-14-2021",
          "02-21-2021",
          "02-28-2021",
          "03-07-2021",
          "03-14-2021",
          "03-21-2021",
          "03-28-2021",
          "04-04-2021",
          "04-11-2021",
          "04-18-2021",
          "04-25-2021",
          "05-02-2021",
          "05-09-2021",
          "05-16-2021",
          "05-23-2021",
          "05-30-2021",
          "06-06-2021",
          "06-13-2021",
          "06-20-2021",
          "06-27-2021",
          "07-04-2021",
          "07-11-2021",
          "07-18-2021",
          "07-25-2021",
          "08-01-2021",
          "08-08-2021",
          "08-15-2021",
          "08-22-2021",
          "08-29-2021",
          "09-05-2021",
          "09-12-2021",
          "09-19-2021",
          "09-26-2021",
          "10-03-2021",
          "10-10-2021",
          "10-17-2021",
          "10-24-2021",
          "10-31-2021",
          "11-07-2021",
          "11-14-2021",
          "11-21-2021",
          "11-28-2021",
          "12-05-2021",
          "12-12-2021",
          "12-19-2021",
          "12-26-2021",
          "01-02-2022",
          "01-09-2022",
          "01-16-2022",
          "01-23-2022",
          "01-30-2022",
          "02-06-2022",
          "02-13-2022",
          "02-20-2022",
          "02-27-2022",
          "03-08-2022",
          "03-15-2022",
          "03-22-2022",
          "03-29-2022",
          "04-05-2022",
          "04-12-2022",
          "04-19-2022",
          "04-26-2022",
          "05-03-2022",
          "05-10-2022",
          "05-17-2022",
          "05-24-2022",
          "05-31-2022",
          "06-07-2022",
          "06-14-2022",
          "06-21-2022",
          "06-28-2022",
          "07-05-2022",
          "07-12-2022",
          "07-19-2022",
          "07-26-2022",
          "08-02-2022",
          "08-09-2022",
          "08-16-2022",
          "08-23-2022",
          "08-30-2022",
          "09-06-2022",
          "09-13-2022",
          "09-20-2022",
          "09-27-2022",
          "10-04-2022",
          "10-11-2022",
          "10-18-2022",
          "10-25-2022",
          "11-01-2022",
          "11-08-2022",
          "11-15-2022",
          "11-22-2022",
          "11-29-2022",
          "12-06-2022",
          "12-13-2022",
          "12-20-2022",
          "12-27-2022",
          "01-03-2023",
          "01-10-2023",
          "01-17-2023",
          "01-24-2023",
          "01-31-2023",
          "02-07-2023",
          "02-14-2023",
          "02-21-2023",
          "02-28-2023",
          "03-07-2023",
          "03-14-2023",
          "03-21-2023",
          "03-28-2023",
          "04-04-2023",
          "04-11-2023",
          "04-18-2023",
          "04-25-2023",
          "05-02-2023",
          "05-09-2023",
          "05-16-2023",
          "05-23-2023",
          "05-30-2023",
          "06-06-2023",
          "06-13-2023",
          "06-20-2023",
          "06-27-2023",
          "07-04-2023",
          "07-11-2023",
          "07-18-2023",
          "07-25-2023",
          "08-01-2023",
          "08-08-2023",
          "08-15-2023",
          "08-22-2023",
          "08-29-2023",
          "09-05-2023",
          "09-12-2023",
          "09-19-2023",
          "09-26-2023"
         ],
         "xaxis": "x",
         "y": [
          24,
          25,
          23,
          22,
          22,
          20,
          20,
          20,
          20,
          20,
          20,
          21,
          20,
          21,
          21,
          21,
          21,
          19,
          19,
          19,
          20,
          21,
          20,
          20,
          20,
          20,
          19,
          19,
          19,
          16,
          15,
          15,
          16,
          16,
          16,
          15,
          15,
          15,
          14,
          14,
          13,
          13,
          13,
          13,
          13,
          13,
          13,
          13,
          13,
          14,
          15,
          15,
          15,
          14,
          14,
          14,
          14,
          14,
          14,
          15,
          15,
          15,
          15,
          15,
          15,
          15,
          15,
          15,
          15,
          15,
          16,
          16,
          16,
          16,
          16,
          16,
          16,
          16,
          16,
          16,
          16,
          16,
          16,
          16,
          15,
          16,
          16,
          15,
          15,
          16,
          16,
          15,
          15,
          16,
          16,
          16,
          15,
          15,
          15,
          15,
          15,
          15,
          15,
          16,
          16,
          17,
          17,
          17,
          17,
          17,
          17,
          18,
          18,
          18,
          18,
          18,
          18,
          18,
          18,
          19,
          19,
          19,
          19,
          19,
          18,
          18,
          19,
          19,
          19,
          19,
          18,
          18,
          18,
          19,
          19,
          19,
          19,
          19,
          19,
          19,
          19,
          19,
          23,
          23,
          23,
          23,
          22,
          22,
          21,
          22,
          22,
          22,
          22,
          22,
          22,
          22,
          22,
          22,
          22,
          22,
          22,
          22,
          22,
          22,
          22,
          22,
          22,
          22,
          22,
          22,
          22,
          22,
          21,
          21,
          21,
          21,
          21,
          21,
          21,
          21,
          22,
          22,
          22,
          22,
          22,
          22,
          22,
          22,
          22,
          22,
          22,
          22,
          22,
          21,
          21,
          21,
          21,
          21,
          18,
          18,
          18,
          18,
          17,
          17,
          17,
          17,
          17,
          17
         ],
         "yaxis": "y"
        }
       ],
       "layout": {
        "legend": {
         "tracegroupgap": 0
        },
        "margin": {
         "t": 60
        },
        "template": {
         "data": {
          "bar": [
           {
            "error_x": {
             "color": "#2a3f5f"
            },
            "error_y": {
             "color": "#2a3f5f"
            },
            "marker": {
             "line": {
              "color": "#E5ECF6",
              "width": 0.5
             },
             "pattern": {
              "fillmode": "overlay",
              "size": 10,
              "solidity": 0.2
             }
            },
            "type": "bar"
           }
          ],
          "barpolar": [
           {
            "marker": {
             "line": {
              "color": "#E5ECF6",
              "width": 0.5
             },
             "pattern": {
              "fillmode": "overlay",
              "size": 10,
              "solidity": 0.2
             }
            },
            "type": "barpolar"
           }
          ],
          "carpet": [
           {
            "aaxis": {
             "endlinecolor": "#2a3f5f",
             "gridcolor": "white",
             "linecolor": "white",
             "minorgridcolor": "white",
             "startlinecolor": "#2a3f5f"
            },
            "baxis": {
             "endlinecolor": "#2a3f5f",
             "gridcolor": "white",
             "linecolor": "white",
             "minorgridcolor": "white",
             "startlinecolor": "#2a3f5f"
            },
            "type": "carpet"
           }
          ],
          "choropleth": [
           {
            "colorbar": {
             "outlinewidth": 0,
             "ticks": ""
            },
            "type": "choropleth"
           }
          ],
          "contour": [
           {
            "colorbar": {
             "outlinewidth": 0,
             "ticks": ""
            },
            "colorscale": [
             [
              0,
              "#0d0887"
             ],
             [
              0.1111111111111111,
              "#46039f"
             ],
             [
              0.2222222222222222,
              "#7201a8"
             ],
             [
              0.3333333333333333,
              "#9c179e"
             ],
             [
              0.4444444444444444,
              "#bd3786"
             ],
             [
              0.5555555555555556,
              "#d8576b"
             ],
             [
              0.6666666666666666,
              "#ed7953"
             ],
             [
              0.7777777777777778,
              "#fb9f3a"
             ],
             [
              0.8888888888888888,
              "#fdca26"
             ],
             [
              1,
              "#f0f921"
             ]
            ],
            "type": "contour"
           }
          ],
          "contourcarpet": [
           {
            "colorbar": {
             "outlinewidth": 0,
             "ticks": ""
            },
            "type": "contourcarpet"
           }
          ],
          "heatmap": [
           {
            "colorbar": {
             "outlinewidth": 0,
             "ticks": ""
            },
            "colorscale": [
             [
              0,
              "#0d0887"
             ],
             [
              0.1111111111111111,
              "#46039f"
             ],
             [
              0.2222222222222222,
              "#7201a8"
             ],
             [
              0.3333333333333333,
              "#9c179e"
             ],
             [
              0.4444444444444444,
              "#bd3786"
             ],
             [
              0.5555555555555556,
              "#d8576b"
             ],
             [
              0.6666666666666666,
              "#ed7953"
             ],
             [
              0.7777777777777778,
              "#fb9f3a"
             ],
             [
              0.8888888888888888,
              "#fdca26"
             ],
             [
              1,
              "#f0f921"
             ]
            ],
            "type": "heatmap"
           }
          ],
          "heatmapgl": [
           {
            "colorbar": {
             "outlinewidth": 0,
             "ticks": ""
            },
            "colorscale": [
             [
              0,
              "#0d0887"
             ],
             [
              0.1111111111111111,
              "#46039f"
             ],
             [
              0.2222222222222222,
              "#7201a8"
             ],
             [
              0.3333333333333333,
              "#9c179e"
             ],
             [
              0.4444444444444444,
              "#bd3786"
             ],
             [
              0.5555555555555556,
              "#d8576b"
             ],
             [
              0.6666666666666666,
              "#ed7953"
             ],
             [
              0.7777777777777778,
              "#fb9f3a"
             ],
             [
              0.8888888888888888,
              "#fdca26"
             ],
             [
              1,
              "#f0f921"
             ]
            ],
            "type": "heatmapgl"
           }
          ],
          "histogram": [
           {
            "marker": {
             "pattern": {
              "fillmode": "overlay",
              "size": 10,
              "solidity": 0.2
             }
            },
            "type": "histogram"
           }
          ],
          "histogram2d": [
           {
            "colorbar": {
             "outlinewidth": 0,
             "ticks": ""
            },
            "colorscale": [
             [
              0,
              "#0d0887"
             ],
             [
              0.1111111111111111,
              "#46039f"
             ],
             [
              0.2222222222222222,
              "#7201a8"
             ],
             [
              0.3333333333333333,
              "#9c179e"
             ],
             [
              0.4444444444444444,
              "#bd3786"
             ],
             [
              0.5555555555555556,
              "#d8576b"
             ],
             [
              0.6666666666666666,
              "#ed7953"
             ],
             [
              0.7777777777777778,
              "#fb9f3a"
             ],
             [
              0.8888888888888888,
              "#fdca26"
             ],
             [
              1,
              "#f0f921"
             ]
            ],
            "type": "histogram2d"
           }
          ],
          "histogram2dcontour": [
           {
            "colorbar": {
             "outlinewidth": 0,
             "ticks": ""
            },
            "colorscale": [
             [
              0,
              "#0d0887"
             ],
             [
              0.1111111111111111,
              "#46039f"
             ],
             [
              0.2222222222222222,
              "#7201a8"
             ],
             [
              0.3333333333333333,
              "#9c179e"
             ],
             [
              0.4444444444444444,
              "#bd3786"
             ],
             [
              0.5555555555555556,
              "#d8576b"
             ],
             [
              0.6666666666666666,
              "#ed7953"
             ],
             [
              0.7777777777777778,
              "#fb9f3a"
             ],
             [
              0.8888888888888888,
              "#fdca26"
             ],
             [
              1,
              "#f0f921"
             ]
            ],
            "type": "histogram2dcontour"
           }
          ],
          "mesh3d": [
           {
            "colorbar": {
             "outlinewidth": 0,
             "ticks": ""
            },
            "type": "mesh3d"
           }
          ],
          "parcoords": [
           {
            "line": {
             "colorbar": {
              "outlinewidth": 0,
              "ticks": ""
             }
            },
            "type": "parcoords"
           }
          ],
          "pie": [
           {
            "automargin": true,
            "type": "pie"
           }
          ],
          "scatter": [
           {
            "fillpattern": {
             "fillmode": "overlay",
             "size": 10,
             "solidity": 0.2
            },
            "type": "scatter"
           }
          ],
          "scatter3d": [
           {
            "line": {
             "colorbar": {
              "outlinewidth": 0,
              "ticks": ""
             }
            },
            "marker": {
             "colorbar": {
              "outlinewidth": 0,
              "ticks": ""
             }
            },
            "type": "scatter3d"
           }
          ],
          "scattercarpet": [
           {
            "marker": {
             "colorbar": {
              "outlinewidth": 0,
              "ticks": ""
             }
            },
            "type": "scattercarpet"
           }
          ],
          "scattergeo": [
           {
            "marker": {
             "colorbar": {
              "outlinewidth": 0,
              "ticks": ""
             }
            },
            "type": "scattergeo"
           }
          ],
          "scattergl": [
           {
            "marker": {
             "colorbar": {
              "outlinewidth": 0,
              "ticks": ""
             }
            },
            "type": "scattergl"
           }
          ],
          "scattermapbox": [
           {
            "marker": {
             "colorbar": {
              "outlinewidth": 0,
              "ticks": ""
             }
            },
            "type": "scattermapbox"
           }
          ],
          "scatterpolar": [
           {
            "marker": {
             "colorbar": {
              "outlinewidth": 0,
              "ticks": ""
             }
            },
            "type": "scatterpolar"
           }
          ],
          "scatterpolargl": [
           {
            "marker": {
             "colorbar": {
              "outlinewidth": 0,
              "ticks": ""
             }
            },
            "type": "scatterpolargl"
           }
          ],
          "scatterternary": [
           {
            "marker": {
             "colorbar": {
              "outlinewidth": 0,
              "ticks": ""
             }
            },
            "type": "scatterternary"
           }
          ],
          "surface": [
           {
            "colorbar": {
             "outlinewidth": 0,
             "ticks": ""
            },
            "colorscale": [
             [
              0,
              "#0d0887"
             ],
             [
              0.1111111111111111,
              "#46039f"
             ],
             [
              0.2222222222222222,
              "#7201a8"
             ],
             [
              0.3333333333333333,
              "#9c179e"
             ],
             [
              0.4444444444444444,
              "#bd3786"
             ],
             [
              0.5555555555555556,
              "#d8576b"
             ],
             [
              0.6666666666666666,
              "#ed7953"
             ],
             [
              0.7777777777777778,
              "#fb9f3a"
             ],
             [
              0.8888888888888888,
              "#fdca26"
             ],
             [
              1,
              "#f0f921"
             ]
            ],
            "type": "surface"
           }
          ],
          "table": [
           {
            "cells": {
             "fill": {
              "color": "#EBF0F8"
             },
             "line": {
              "color": "white"
             }
            },
            "header": {
             "fill": {
              "color": "#C8D4E3"
             },
             "line": {
              "color": "white"
             }
            },
            "type": "table"
           }
          ]
         },
         "layout": {
          "annotationdefaults": {
           "arrowcolor": "#2a3f5f",
           "arrowhead": 0,
           "arrowwidth": 1
          },
          "autotypenumbers": "strict",
          "coloraxis": {
           "colorbar": {
            "outlinewidth": 0,
            "ticks": ""
           }
          },
          "colorscale": {
           "diverging": [
            [
             0,
             "#8e0152"
            ],
            [
             0.1,
             "#c51b7d"
            ],
            [
             0.2,
             "#de77ae"
            ],
            [
             0.3,
             "#f1b6da"
            ],
            [
             0.4,
             "#fde0ef"
            ],
            [
             0.5,
             "#f7f7f7"
            ],
            [
             0.6,
             "#e6f5d0"
            ],
            [
             0.7,
             "#b8e186"
            ],
            [
             0.8,
             "#7fbc41"
            ],
            [
             0.9,
             "#4d9221"
            ],
            [
             1,
             "#276419"
            ]
           ],
           "sequential": [
            [
             0,
             "#0d0887"
            ],
            [
             0.1111111111111111,
             "#46039f"
            ],
            [
             0.2222222222222222,
             "#7201a8"
            ],
            [
             0.3333333333333333,
             "#9c179e"
            ],
            [
             0.4444444444444444,
             "#bd3786"
            ],
            [
             0.5555555555555556,
             "#d8576b"
            ],
            [
             0.6666666666666666,
             "#ed7953"
            ],
            [
             0.7777777777777778,
             "#fb9f3a"
            ],
            [
             0.8888888888888888,
             "#fdca26"
            ],
            [
             1,
             "#f0f921"
            ]
           ],
           "sequentialminus": [
            [
             0,
             "#0d0887"
            ],
            [
             0.1111111111111111,
             "#46039f"
            ],
            [
             0.2222222222222222,
             "#7201a8"
            ],
            [
             0.3333333333333333,
             "#9c179e"
            ],
            [
             0.4444444444444444,
             "#bd3786"
            ],
            [
             0.5555555555555556,
             "#d8576b"
            ],
            [
             0.6666666666666666,
             "#ed7953"
            ],
            [
             0.7777777777777778,
             "#fb9f3a"
            ],
            [
             0.8888888888888888,
             "#fdca26"
            ],
            [
             1,
             "#f0f921"
            ]
           ]
          },
          "colorway": [
           "#636efa",
           "#EF553B",
           "#00cc96",
           "#ab63fa",
           "#FFA15A",
           "#19d3f3",
           "#FF6692",
           "#B6E880",
           "#FF97FF",
           "#FECB52"
          ],
          "font": {
           "color": "#2a3f5f"
          },
          "geo": {
           "bgcolor": "white",
           "lakecolor": "white",
           "landcolor": "#E5ECF6",
           "showlakes": true,
           "showland": true,
           "subunitcolor": "white"
          },
          "hoverlabel": {
           "align": "left"
          },
          "hovermode": "closest",
          "mapbox": {
           "style": "light"
          },
          "paper_bgcolor": "white",
          "plot_bgcolor": "#E5ECF6",
          "polar": {
           "angularaxis": {
            "gridcolor": "white",
            "linecolor": "white",
            "ticks": ""
           },
           "bgcolor": "#E5ECF6",
           "radialaxis": {
            "gridcolor": "white",
            "linecolor": "white",
            "ticks": ""
           }
          },
          "scene": {
           "xaxis": {
            "backgroundcolor": "#E5ECF6",
            "gridcolor": "white",
            "gridwidth": 2,
            "linecolor": "white",
            "showbackground": true,
            "ticks": "",
            "zerolinecolor": "white"
           },
           "yaxis": {
            "backgroundcolor": "#E5ECF6",
            "gridcolor": "white",
            "gridwidth": 2,
            "linecolor": "white",
            "showbackground": true,
            "ticks": "",
            "zerolinecolor": "white"
           },
           "zaxis": {
            "backgroundcolor": "#E5ECF6",
            "gridcolor": "white",
            "gridwidth": 2,
            "linecolor": "white",
            "showbackground": true,
            "ticks": "",
            "zerolinecolor": "white"
           }
          },
          "shapedefaults": {
           "line": {
            "color": "#2a3f5f"
           }
          },
          "ternary": {
           "aaxis": {
            "gridcolor": "white",
            "linecolor": "white",
            "ticks": ""
           },
           "baxis": {
            "gridcolor": "white",
            "linecolor": "white",
            "ticks": ""
           },
           "bgcolor": "#E5ECF6",
           "caxis": {
            "gridcolor": "white",
            "linecolor": "white",
            "ticks": ""
           }
          },
          "title": {
           "x": 0.05
          },
          "xaxis": {
           "automargin": true,
           "gridcolor": "white",
           "linecolor": "white",
           "ticks": "",
           "title": {
            "standoff": 15
           },
           "zerolinecolor": "white",
           "zerolinewidth": 2
          },
          "yaxis": {
           "automargin": true,
           "gridcolor": "white",
           "linecolor": "white",
           "ticks": "",
           "title": {
            "standoff": 15
           },
           "zerolinecolor": "white",
           "zerolinewidth": 2
          }
         }
        },
        "xaxis": {
         "anchor": "y",
         "domain": [
          0,
          1
         ],
         "title": {
          "text": "Date"
         }
        },
        "yaxis": {
         "anchor": "x",
         "domain": [
          0,
          1
         ],
         "title": {
          "text": "# Rigs"
         }
        }
       }
      }
     },
     "metadata": {},
     "output_type": "display_data"
    }
   ],
   "source": [
    "import plotly.express as px\n",
    "fig = px.line(rig_info_df, x='Date', y='# Rigs')\n",
    "fig.show()"
   ]
  },
  {
   "cell_type": "code",
   "execution_count": null,
   "metadata": {},
   "outputs": [],
   "source": []
  }
 ],
 "metadata": {
  "kernelspec": {
   "display_name": "dev",
   "language": "python",
   "name": "python3"
  },
  "language_info": {
   "codemirror_mode": {
    "name": "ipython",
    "version": 3
   },
   "file_extension": ".py",
   "mimetype": "text/x-python",
   "name": "python",
   "nbconvert_exporter": "python",
   "pygments_lexer": "ipython3",
   "version": "3.11.4"
  },
  "orig_nbformat": 4
 },
 "nbformat": 4,
 "nbformat_minor": 2
}
